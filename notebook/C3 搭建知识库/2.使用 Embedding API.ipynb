{
 "cells": [
  {
   "cell_type": "markdown",
   "metadata": {},
   "source": [
    "# 使用Embedding API\n",
    "注：为了方便embedding api调用，应将密钥填入llm_universe下的.env文件，代码将自动读取并加载环境变量。\n",
    "## 一、使用OpenAI API\n",
    "GPT有封装好的接口，我们简单封装即可。目前GPT embedding mode有三种，性能如下所示：\n",
    "|模型 | 每美元页数 | [MTEB](https://github.com/embeddings-benchmark/mteb)得分 | [MIRACL](https://github.com/project-miracl/miracl)得分|\n",
    "| --- | --- | --- | --- |\n",
    "|text-embedding-3-large|9,615|54.9|64.6|\n",
    "|text-embedding-3-small|62,500|62.3|44.0|\n",
    "|text-embedding-ada-002|12,500|61.0|31.4|\n",
    "* MTEB得分为embedding model分类、聚类、配对等八个任务的平均得分。\n",
    "* MIRACL得分为embedding model在检索任务上的平均得分。  \n",
    "\n",
    "从以上三个embedding model我们可以看出`text-embedding-3-large`有最好的性能和最贵的价格，当我们搭建的应用需要更好的表现且成本充足的情况下可以使用；`text-embedding-3-small`有着较好的性能跟价格，当我们预算有限时可以选择该模型；而`text-embedding-ada-002`是OpenAI上一代的模型，无论在性能还是价格都不如及前两者，因此不推荐使用。"
   ]
  },
  {
   "cell_type": "code",
   "execution_count": 1,
   "metadata": {},
   "outputs": [],
   "source": [
    "import os\n",
    "from openai import OpenAI\n",
    "from dotenv import load_dotenv, find_dotenv\n",
    "\n",
    "\n",
    "# 读取本地/项目的环境变量。\n",
    "# find_dotenv()寻找并定位.env文件的路径\n",
    "# load_dotenv()读取该.env文件，并将其中的环境变量加载到当前的运行环境中  \n",
    "# 如果你设置的是全局的环境变量，这行代码则没有任何作用。\n",
    "_ = load_dotenv(find_dotenv())\n",
    "\n",
    "# 如果你需要通过代理端口访问，你需要如下配置\n",
    "os.environ['HTTPS_PROXY'] = 'http://127.0.0.1:7890'\n",
    "os.environ[\"HTTP_PROXY\"] = 'http://127.0.0.1:7890'\n",
    "\n",
    "def openai_embedding(text: str, model: str=None):\n",
    "    # 获取环境变量 OPENAI_API_KEY\n",
    "    api_key=os.environ['OPENAI_API_KEY']\n",
    "    client = OpenAI(api_key=api_key)\n",
    "\n",
    "    # embedding model：'text-embedding-3-small', 'text-embedding-3-large', 'text-embedding-ada-002'\n",
    "    if model == None:\n",
    "        model=\"text-embedding-3-small\"\n",
    "\n",
    "    response = client.embeddings.create(\n",
    "        input=text,\n",
    "        model=model\n",
    "    )\n",
    "    return response\n",
    "\n",
    "response = openai_embedding(text='要生成 embedding 的输入文本，字符串形式。')"
   ]
  },
  {
   "cell_type": "markdown",
   "metadata": {},
   "source": [
    "API返回的数据为`json`格式，除`object`向量类型外还有存放数据的`data`、embedding model 型号`model`以及本次 token 使用情况`usage`等数据，具体如下所示：\n",
    "```json\n",
    "{\n",
    "  \"object\": \"list\",\n",
    "  \"data\": [\n",
    "    {\n",
    "      \"object\": \"embedding\",\n",
    "      \"index\": 0,\n",
    "      \"embedding\": [\n",
    "        -0.006929283495992422,\n",
    "        ... (省略)\n",
    "        -4.547132266452536e-05,\n",
    "      ],\n",
    "    }\n",
    "  ],\n",
    "  \"model\": \"text-embedding-3-small\",\n",
    "  \"usage\": {\n",
    "    \"prompt_tokens\": 5,\n",
    "    \"total_tokens\": 5\n",
    "  }\n",
    "}\n",
    "```\n",
    "我们可以调用response的object来获取embedding的类型。"
   ]
  },
  {
   "cell_type": "code",
   "execution_count": 2,
   "metadata": {},
   "outputs": [
    {
     "name": "stdout",
     "output_type": "stream",
     "text": [
      "返回的embedding类型为：list\n"
     ]
    }
   ],
   "source": [
    "print(f'返回的embedding类型为：{response.object}')"
   ]
  },
  {
   "cell_type": "markdown",
   "metadata": {},
   "source": [
    "embedding存放在data中，我们可以查看embedding的长度及生成的embedding。"
   ]
  },
  {
   "cell_type": "code",
   "execution_count": 3,
   "metadata": {},
   "outputs": [
    {
     "name": "stdout",
     "output_type": "stream",
     "text": [
      "embedding长度为：1536\n",
      "embedding（前10）为：[0.03884002938866615, 0.013516489416360855, -0.0024250170681625605, -0.01655769906938076, 0.024130908772349358, -0.017382603138685226, 0.04206013306975365, 0.011498954147100449, -0.028245486319065094, -0.00674333656206727]\n"
     ]
    }
   ],
   "source": [
    "print(f'embedding长度为：{len(response.data[0].embedding)}')\n",
    "print(f'embedding（前10）为：{response.data[0].embedding[:10]}')"
   ]
  },
  {
   "cell_type": "markdown",
   "metadata": {},
   "source": [
    "我们也可以查看此次embedding的模型及token使用情况。"
   ]
  },
  {
   "cell_type": "code",
   "execution_count": 4,
   "metadata": {},
   "outputs": [
    {
     "name": "stdout",
     "output_type": "stream",
     "text": [
      "本次embedding model为：text-embedding-3-small\n",
      "本次token使用情况为：Usage(prompt_tokens=12, total_tokens=12)\n"
     ]
    }
   ],
   "source": [
    "print(f'本次embedding model为：{response.model}')\n",
    "print(f'本次token使用情况为：{response.usage}')"
   ]
  },
  {
   "cell_type": "markdown",
   "metadata": {},
   "source": [
    "## 二、使用文心千帆API\n",
    "Embedding-V1是基于百度文心大模型技术的文本表示模型，Access token为调用接口的凭证，使用Embedding-V1时应先凭API Key、Secret Key获取Access token，再通过Access token调用接口来embedding text。同时千帆大模型平台还支持bge-large-zh等embedding model。"
   ]
  },
  {
   "cell_type": "code",
   "execution_count": 1,
   "metadata": {},
   "outputs": [
    {
     "name": "stdout",
     "output_type": "stream",
     "text": [
      "{'id': 'as-8whp5nnef8', 'object': 'embedding_list', 'created': 1713939459, 'data': [{'object': 'embedding', 'embedding': [0.060567744076251984, 0.020958080887794495, 0.053234219551086426, 0.02243831567466259, -0.024505289271473885, -0.09820500761270523, 0.04375714063644409, -0.009092536754906178, -0.020122773945331573, 0.015808865427970886, 0.02499788999557495, -0.05453784763813019, -0.0278654545545578, 0.032102085649967194, -0.04915492609143257, -0.0073334150947630405, -0.02150459587574005, 0.0574442557990551, -0.04584359750151634, -0.026732008904218674, 0.08619209378957748, -0.07170350104570389, -0.10206466913223267, 0.022043202072381973, -0.06668663024902344, -0.021306872367858887, 0.02987739071249962, 0.07711691409349442, 0.06159079447388649, 0.01056479662656784, -0.035385146737098694, -0.023122405633330345, 0.022517746314406395, -0.1037336215376854, -0.007850212045013905, 0.07665619999170303, 0.0018731291638687253, 0.009981431998312473, 0.05231248214840889, -0.001725473441183567, -0.0488770417869091, -0.03540484234690666, -0.08071782439947128, 0.009034437127411366, 0.07614858448505402, -0.031490202993154526, -0.10352618992328644, 0.08674915134906769, -0.07584614306688309, 0.032676029950380325, 0.03002297505736351, 0.0683610737323761, 0.10694168508052826, -0.04356043413281441, 0.08134527504444122, 0.05570225790143013, -0.0694526731967926, -0.0407511442899704, -0.010643821209669113, 0.02538749948143959, -0.03616950660943985, -0.061843521893024445, -0.02639193646609783, 0.04204997047781944, 0.08088411390781403, -0.018971353769302368, -0.027492642402648926, -0.007043252233415842, 0.022493908181786537, 0.0851176381111145, -0.024982796981930733, -0.024659842252731323, 0.006651976145803928, 0.06791806221008301, 0.07045362889766693, 0.05444072559475899, -0.038538020104169846, 0.08887001127004623, -0.025527965277433395, 0.009774693287909031, 0.03011063113808632, -0.051486898213624954, 0.10075999051332474, 0.030634984374046326, -0.026069575920701027, 0.025728240609169006, 0.013976728543639183, 0.024615373462438583, -0.014866757206618786, 0.015129070729017258, -0.06818308681249619, -0.08917375653982162, 0.038463328033685684, 0.00914023444056511, 0.033691514283418655, 0.10822190344333649, -0.04827374219894409, 0.023151153698563576, 0.06791955977678299, -0.024834411218762398, 0.014510621316730976, -0.06438697874546051, 0.06105580925941467, -0.03965672850608826, 0.010092315264046192, 0.011844856664538383, -0.04427214339375496, -0.09260254353284836, -0.011351614259183407, -0.02799426019191742, -0.07109075784683228, 0.04156602546572685, 0.0032786699011921883, 0.037401407957077026, 0.04391539469361305, -0.011950426734983921, -0.09023244678974152, 0.005598583724349737, -0.00040817016270011663, -0.017305469140410423, 0.009930050931870937, -0.01520612370222807, -0.019471731036901474, 0.12558172643184662, 0.10675541311502457, -0.11330459266901016, -0.02676294557750225, -0.0202593095600605, -0.009506311267614365, 0.04437936842441559, -0.00946298148483038, -0.004843933507800102, -0.018770257011055946, 0.018525851890444756, 0.10210361331701279, 0.061445996165275574, -0.026796193793416023, -0.08014220744371414, -0.0873643085360527, 0.043773550540208817, -0.02307243086397648, 0.03359456732869148, 0.09053988754749298, 0.008276304230093956, -0.04017600789666176, -0.036509402096271515, 0.01677260920405388, 0.056332994252443314, -0.06176422908902168, -0.010029273107647896, 0.007146867457777262, 0.06430760025978088, 0.005142061039805412, 0.014011637307703495, -0.04045719653367996, 0.050611093640327454, 0.033890798687934875, -0.09781312197446823, -0.021110424771904945, -0.022753801196813583, -0.13749684393405914, 0.027749767526984215, 0.017820900306105614, -0.0026276621501892805, 0.0326780267059803, -0.07018950581550598, 0.012196277268230915, -0.06193208694458008, 0.03328314051032066, -0.0519675649702549, -0.003246725769713521, 0.07131784409284592, -0.022190984338521957, -0.07563220709562302, 0.03431040793657303, 0.02901771105825901, 0.0838562548160553, 0.0921868234872818, -0.003937703091651201, 0.01627345383167267, 0.0155560951679945, -0.06331882625818253, 0.09838961064815521, 0.05892695114016533, -0.035930927842855453, 0.06405110657215118, -0.02516687847673893, -0.014572586864233017, 0.023036517202854156, 0.005344357341527939, -0.009896013885736465, -0.042404655367136, 0.05551033467054367, 0.002180639421567321, 0.003459263825789094, 0.03211747109889984, -0.0156259648501873, -0.08211256563663483, -0.06159425526857376, 0.004142831079661846, -0.017666306346654892, -0.09542996436357498, -0.11621885001659393, -0.03503216430544853, 0.04515868425369263, 0.03429117798805237, 0.01289623323827982, -0.03154781088232994, 0.031453561037778854, 0.0808015838265419, 0.07907097786664963, 0.007157716900110245, -0.05485713109374046, -0.07913541793823242, -0.013354566879570484, 0.023543715476989746, -0.02221464179456234, -0.03111409582197666, 0.04466032236814499, -0.027654102072119713, 0.023997033014893532, -0.02729339897632599, 0.11780206859111786, 0.06088145449757576, 0.014389128424227238, 0.002016786253079772, 0.03231913968920708, 0.030985768884420395, 0.03698905557394028, -0.028191760182380676, 0.03793477267026901, -0.06721687316894531, -0.01656409725546837, -0.08628500998020172, 0.00016972039884421974, 0.0364190936088562, -0.058655284345149994, -0.0725080668926239, -0.06004178524017334, -0.10211193561553955, -0.0187136922031641, -0.0608784519135952, -0.058191243559122086, -0.019270604476332664, 0.0024680797941982746, -0.002155539346858859, -0.00591061357408762, 0.05549465864896774, 0.019281286746263504, -0.08640632033348083, -0.061992254108190536, 0.054598089307546616, 0.007617331575602293, 0.0254918672144413, 0.10145404189825058, 0.0070282514207065105, 0, 0, 0, 0, 0, 0, 0, 0, 0, 0, -0.002315354999154806, 0, 0, -0.19576850533485413, 0, 0, 0, 0, 0, 0.02392805926501751, 0, 0, 0, 0, 0, 0, 0, 0, 0, 0, 0, 0, 0, 0, 0, -0.15188981592655182, 0, 0, 0, 0, 0, 0, 0, 0, 0, 0, 0, 0, 0, -0.12697823345661163, 0, 0.2262856662273407, 0, 0, -0.14900201559066772, 0, 0, 0, 0, 0.18426142632961273, 0, 0, 0, 0, 0, 0, 0, 0, 0, 0, 0, 0, 0, 0, 0, 0, 0, 0, 0, 0, 0, 0, 0, 0, 0, 0, 0, 0, 0, 0, 0, 0, 0, -0.1502591073513031, 0, 0, 0, 0, 0, 0, 0, 0, 0, 0, 0, -0.17553961277008057, 0, 0, 0, 0, 0.1719307154417038, 0, 0, -0.21003665030002594, 0, 0, 0, 0, 0, 0, 0, 0, 0, 0, 0, 0, 0, 0], 'index': 0}], 'usage': {'prompt_tokens': 10, 'total_tokens': 10}}\n"
     ]
    }
   ],
   "source": [
    "import requests\n",
    "import json,os\n",
    "\n",
    "def wenxin_embedding(text: str):\n",
    "    # 获取环境变量 wenxin_api_key、wenxin_secret_key\n",
    "    api_key = os.environ['QIANFAN_AK']\n",
    "    secret_key = os.environ['QIANFAN_SK']\n",
    "\n",
    "    # 使用API Key、Secret Key向https://aip.baidubce.com/oauth/2.0/token 获取Access token\n",
    "    url = \"https://aip.baidubce.com/oauth/2.0/token?grant_type=client_credentials&client_id={0}&client_secret={1}\".format(api_key, secret_key)\n",
    "    payload = json.dumps(\"\")\n",
    "    headers = {\n",
    "        'Content-Type': 'application/json',\n",
    "        'Accept': 'application/json'\n",
    "    }\n",
    "    response = requests.request(\"POST\", url, headers=headers, data=payload)\n",
    "    \n",
    "    # 通过获取的Access token 来embedding text\n",
    "    url = \"https://aip.baidubce.com/rpc/2.0/ai_custom/v1/wenxinworkshop/embeddings/embedding-v1?access_token=\" + str(response.json().get(\"access_token\"))\n",
    "    input = []\n",
    "    input.append(text)\n",
    "    payload = json.dumps({\n",
    "        \"input\": input\n",
    "    })\n",
    "    headers = {\n",
    "        'Content-Type': 'application/json'\n",
    "    }\n",
    "\n",
    "    response = requests.request(\"POST\", url, headers=headers, data=payload)\n",
    "\n",
    "    return json.loads(response.text)\n",
    "# text应为List(string)\n",
    "text = \"要生成 embedding 的输入文本，字符串形式。\"\n",
    "response = wenxin_embedding(text=text)\n",
    "print(response)"
   ]
  },
  {
   "cell_type": "markdown",
   "metadata": {},
   "source": [
    "Embedding-V1每次embedding除了有单独的id外，还有时间戳记录embedding的时间。"
   ]
  },
  {
   "cell_type": "code",
   "execution_count": 2,
   "metadata": {},
   "outputs": [
    {
     "name": "stdout",
     "output_type": "stream",
     "text": [
      "本次embedding id为：as-8whp5nnef8\n",
      "本次embedding产生时间戳为：1713939459\n"
     ]
    }
   ],
   "source": [
    "print('本次embedding id为：{}'.format(response['id']))\n",
    "print('本次embedding产生时间戳为：{}'.format(response['created']))"
   ]
  },
  {
   "cell_type": "markdown",
   "metadata": {},
   "source": [
    "同样的我们也可以从response中获取embedding的类型和embedding。"
   ]
  },
  {
   "cell_type": "code",
   "execution_count": 3,
   "metadata": {},
   "outputs": [
    {
     "name": "stdout",
     "output_type": "stream",
     "text": [
      "返回的embedding类型为:embedding_list\n",
      "embedding长度为：384\n",
      "embedding（前10）为：[0.060567744076251984, 0.020958080887794495, 0.053234219551086426, 0.02243831567466259, -0.024505289271473885, -0.09820500761270523, 0.04375714063644409, -0.009092536754906178, -0.020122773945331573, 0.015808865427970886]\n"
     ]
    }
   ],
   "source": [
    "print('返回的embedding类型为:{}'.format(response['object']))\n",
    "print('embedding长度为：{}'.format(len(response['data'][0]['embedding'])))\n",
    "print('embedding（前10）为：{}'.format(response['data'][0]['embedding'][:10]))"
   ]
  },
  {
   "cell_type": "markdown",
   "metadata": {},
   "source": [
    "## 三、使用讯飞星火API"
   ]
  },
  {
   "cell_type": "markdown",
   "metadata": {},
   "source": [
    "### 尚未开放"
   ]
  },
  {
   "cell_type": "markdown",
   "metadata": {},
   "source": [
    "## 四、使用智谱API\n",
    "智谱有封装好的SDK，我们调用即可。"
   ]
  },
  {
   "cell_type": "code",
   "execution_count": 4,
   "metadata": {},
   "outputs": [],
   "source": [
    "from zhipuai import ZhipuAI\n",
    "def zhipu_embedding(text: str):\n",
    "\n",
    "    api_key = os.environ['ZHIPUAI_API_KEY']\n",
    "    client = ZhipuAI(api_key=api_key)\n",
    "    response = client.embeddings.create(\n",
    "        model=\"embedding-2\",\n",
    "        input=text,\n",
    "    )\n",
    "    return response\n",
    "\n",
    "text = '要生成 embedding 的输入文本，字符串形式。'\n",
    "response = zhipu_embedding(text=text)"
   ]
  },
  {
   "cell_type": "markdown",
   "metadata": {},
   "source": [
    "response为`zhipuai.types.embeddings.EmbeddingsResponded`类型，我们可以调用`object`、`data`、`model`、`usage`来查看response的embedding类型、embedding、embedding model及使用情况。"
   ]
  },
  {
   "cell_type": "code",
   "execution_count": 5,
   "metadata": {},
   "outputs": [
    {
     "name": "stdout",
     "output_type": "stream",
     "text": [
      "response类型为：<class 'zhipuai.types.embeddings.EmbeddingsResponded'>\n",
      "embedding类型为：list\n",
      "生成embedding的model为：embedding-2\n",
      "生成的embedding长度为：1024\n",
      "embedding（前10）为: [0.017892399802803993, 0.0644201710820198, -0.009342825971543789, 0.02707476168870926, 0.004067837726324797, -0.05597858875989914, -0.04223804175853729, -0.03003198653459549, -0.016357755288481712, 0.06777040660381317]\n"
     ]
    }
   ],
   "source": [
    "print(f'response类型为：{type(response)}')\n",
    "print(f'embedding类型为：{response.object}')\n",
    "print(f'生成embedding的model为：{response.model}')\n",
    "print(f'生成的embedding长度为：{len(response.data[0].embedding)}')\n",
    "print(f'embedding（前10）为: {response.data[0].embedding[:10]}')"
   ]
  }
 ],
 "metadata": {
  "kernelspec": {
   "display_name": "llm_universe_2.x",
   "language": "python",
   "name": "python3"
  },
  "language_info": {
   "codemirror_mode": {
    "name": "ipython",
    "version": 3
   },
   "file_extension": ".py",
   "mimetype": "text/x-python",
   "name": "python",
   "nbconvert_exporter": "python",
   "pygments_lexer": "ipython3",
   "version": "3.10.14"
  }
 },
 "nbformat": 4,
 "nbformat_minor": 2
}
